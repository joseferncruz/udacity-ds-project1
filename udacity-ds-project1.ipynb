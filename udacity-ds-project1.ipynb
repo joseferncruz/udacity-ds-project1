{
 "cells": [
  {
   "cell_type": "markdown",
   "metadata": {},
   "source": [
    "# Udacity Data Scientist Nanodegree Program - Project 1\n",
    "---\n",
    "This repository is part of the learning objectives of the [nanodegree in data science](https://www.udacity.com/course/data-scientist-nanodegree--nd025) provided by Udacity."
   ]
  },
  {
   "cell_type": "markdown",
   "metadata": {},
   "source": [
    "## Table of Contents\n",
    "\n",
    "[Project Description](project-description)\n",
    "\n",
    "[Dataset](#dataset)\n",
    "\n",
    "[Outro](#outro)"
   ]
  },
  {
   "cell_type": "markdown",
   "metadata": {},
   "source": [
    "<a id=\"project-description\"><a/>\n",
    "## Project Description\n",
    "\n",
    "In this project, I was responsible for finding a public dataset, come up with some questions and search for answers using the choosen data. As part of the project, I wrote a blog post with my insights and some additional information. \n",
    "\n",
    "To execute this project, I choose the [New York City Open Restaurant database](https://data.cityofnewyork.us/Transportation/Open-Restaurant-Applications/pitm-atqc) that contains information about the restaurants \"seeking authorization to re-open under Phase Two of the State’s New York Forward Plan, and place outdoor seating in front of their business on the sidewalk and/or roadway\". \n",
    "    \n",
    "More details about this project can be found in the README of the repository containing this notebook.\n",
    "    \n",
    "The analysis are described in a **medium blog post**. \n",
    "\n",
    "---"
   ]
  },
  {
   "cell_type": "code",
   "execution_count": null,
   "metadata": {},
   "outputs": [],
   "source": [
    "# Import packages\n",
    "import os\n",
    "import json\n",
    "import numpy as np\n",
    "import pandas as pd\n",
    "\n",
    "import matplotlib.pyplot as plt\n",
    "import matplotlib.patches as mpatches\n",
    "import matplotlib.colors as colors\n",
    "import folium\n",
    "from folium.plugins import MarkerCluster\n",
    "import seaborn as sns\n",
    "\n",
    "# Set plot configurations\n",
    "cmap = plt.cm.get_cmap('Accent')\n",
    "rc = {\"axes.spines.left\" : True,\n",
    "      \"axes.spines.right\" : False,\n",
    "      \"axes.spines.bottom\" : True,\n",
    "      \"axes.spines.top\" : False,\n",
    "      \"xtick.bottom\" : False,\n",
    "      \"xtick.labelbottom\" : True,\n",
    "      \"ytick.labelleft\" : True,\n",
    "      \"ytick.left\" : True}\n",
    "plt.rcParams.update(rc)\n",
    "\n",
    "# directory to save figure output\n",
    "save_fp = r'images'"
   ]
  },
  {
   "cell_type": "markdown",
   "metadata": {},
   "source": [
    "<a id=\"dataset\"><a/>\n",
    "## The Dataset - [__Open Restaurant Applications__](https://data.cityofnewyork.us/Transportation/Open-Restaurant-Applications/pitm-atqc)\n",
    "\n",
    "The dataset consists of 35 columns with information regarding the business nature of the establishment, location, type of outdoor dinning requested, etc. For my analysis, I choose a subset of the columns containing the most relevant information for the questions I asked."
   ]
  },
  {
   "cell_type": "code",
   "execution_count": null,
   "metadata": {},
   "outputs": [],
   "source": [
    "data = pd.read_csv(\n",
    "    r'dataset/Open_Restaurant_Applications.csv',\n",
    "    parse_dates=['Time of Submission'],  # Convert dates into datetime format\n",
    ")\n",
    "\n",
    "# get a quick look at the datatypes\n",
    "data.info()"
   ]
  },
  {
   "cell_type": "code",
   "execution_count": null,
   "metadata": {},
   "outputs": [],
   "source": [
    "# Drop data columns that are not necessary.\n",
    "data.drop(columns=['Legal Business Name',\n",
    "                   'Building Number',\n",
    "                   'Doing Business As (DBA)',\n",
    "                   'globalid',\n",
    "                   'Food Service Establishment Permit #',\n",
    "                   'Business Address',\n",
    "                   'Sidewalk Dimensions (Length)',\n",
    "                   'Sidewalk Dimensions (Width)',\n",
    "                   'Roadway Dimensions (Length)',\n",
    "                   'Roadway Dimensions (Width)',\n",
    "                   'SLA Serial Number',\n",
    "                   'healthCompliance_terms',\n",
    "                   'Community Board',\n",
    "                   'Council District',\n",
    "                   'Census Tract',\n",
    "                   'BBL',\n",
    "                   'BIN',   \n",
    "                   ],\n",
    "           inplace=True,\n",
    "         )"
   ]
  },
  {
   "cell_type": "markdown",
   "metadata": {},
   "source": [
    "## The Analysis"
   ]
  },
  {
   "cell_type": "markdown",
   "metadata": {},
   "source": [
    "### Q1. Which borough and neighborhoods contains the highest amount of restaurants with outdoor dinning available?\n",
    "---"
   ]
  },
  {
   "cell_type": "code",
   "execution_count": null,
   "metadata": {},
   "outputs": [],
   "source": [
    "# get the number of total number of outdoor dinning requests in each borough\n",
    "r_borough = data.loc[:, 'Borough']\\\n",
    "                .value_counts()\\\n",
    "                .apply(lambda x: round(x, 2))\\\n",
    "                .reset_index()\n",
    "\n",
    "# Create a new column with normalized values as percentage\n",
    "r_borough['Borough_%'] = (r_borough['Borough'] / r_borough['Borough'].sum() * 100\n",
    "                            ).apply(lambda x: round(x))\n",
    "\n",
    "display(r_borough)"
   ]
  },
  {
   "cell_type": "code",
   "execution_count": null,
   "metadata": {},
   "outputs": [],
   "source": [
    "# plot the information above\n",
    "fig, ax = plt.subplots()\n",
    "\n",
    "ax.bar(\n",
    "    r_borough['index'],\n",
    "    r_borough['Borough_%'],\n",
    "    color=[f'C{i}' for i in range(5)]\n",
    ")\n",
    "\n",
    "ax.set(\n",
    "    ylabel='Total outdoor dinning requests (%)',\n",
    "    title='Outdoor Dinning requests accross the 5 NYC boroughs',\n",
    "    ylim=(0, 50),\n",
    ")\n",
    "ax.tick_params('x', rotation=20)\n",
    "\n",
    "plt.show()"
   ]
  },
  {
   "cell_type": "markdown",
   "metadata": {},
   "source": [
    "It seems that Manhattan accounts for around 50 % of all the requests, even not being the biggest borough both in terms of [area](https://en.wikipedia.org/wiki/Boroughs_of_New_York_City) and [population](https://www.census.gov/quickfacts/fact/table/newyorkcitynewyork,bronxcountybronxboroughnewyork,kingscountybrooklynboroughnewyork,newyorkcountymanhattanboroughnewyork,queenscountyqueensboroughnewyork,richmondcountystatenislandboroughnewyork/PST045219). \n",
    "What about the number of successful requests?"
   ]
  },
  {
   "cell_type": "code",
   "execution_count": null,
   "metadata": {},
   "outputs": [],
   "source": [
    "# Get the restaurants with approved outdoor dinning (either sidewalk OR roadwalk)\n",
    "outdoor_approved = (data.loc[:, 'Approved for Sidewalk Seating'].isin(['yes'])\\\n",
    "                    | data.loc[:, 'Approved for Roadway Seating'].isin(['yes']))\n",
    "\n",
    "r_borough_approved = data[outdoor_approved].loc[:, 'Borough'].value_counts(normalize=True) * 100\n",
    "\n",
    "r_borough_approved"
   ]
  },
  {
   "cell_type": "code",
   "execution_count": null,
   "metadata": {},
   "outputs": [],
   "source": [
    "# plot the data above with the style xkcd > https://matplotlib.org/stable/api/_as_gen/matplotlib.pyplot.xkcd.html\n",
    "with plt.xkcd():\n",
    "    fig, ax = plt.subplots()\n",
    "\n",
    "    ax.bar(\n",
    "        r_borough_approved.index,\n",
    "        r_borough_approved,\n",
    "        color=[f'C{i}' for i in range(5)]\n",
    "    )\n",
    "\n",
    "    ax.set(\n",
    "        ylabel='Approved outdoor dinning (%)',\n",
    "        ylim=(0, 50),\n",
    "    )\n",
    "    ax.set_title(\n",
    "        label='Outdoor Dinning requests accross the 5 boroughs',\n",
    "        y=1.05\n",
    "    )\n",
    "    ax.tick_params('x', rotation=20)\n",
    "\n",
    "# Save data\n",
    " \n",
    "    plt.savefig(os.path.join(save_fp, 'approved_borough_xkcd.png'), dpi=200, bbox_inches='tight')"
   ]
  },
  {
   "cell_type": "markdown",
   "metadata": {},
   "source": [
    "As we can observe, it did not change much. In fact, almost all the requests were accepted:"
   ]
  },
  {
   "cell_type": "code",
   "execution_count": null,
   "metadata": {},
   "outputs": [],
   "source": [
    "# Split the restaurants whose requests were accepted and denied. \n",
    "outdoor_approved = data.loc[:, 'Approved for Sidewalk Seating'].isin(['yes'])\\\n",
    "                   | data.loc[:, 'Approved for Roadway Seating'].isin(['yes'])\n",
    "\n",
    "# Subset the data in approved and rejected\n",
    "r_borough_approved = data[outdoor_approved].loc[:, 'Borough'].value_counts() / data.shape[0] * 100\n",
    "r_borough_rejected = data[~outdoor_approved].loc[:, 'Borough'].value_counts() / data.shape[0] * 100"
   ]
  },
  {
   "cell_type": "code",
   "execution_count": null,
   "metadata": {},
   "outputs": [],
   "source": [
    "fig, ax = plt.subplots()\n",
    "\n",
    "ax.bar(\n",
    "    r_borough_rejected.index,\n",
    "    r_borough_rejected,\n",
    "    bottom=r_borough_approved,\n",
    "    label='rejected',\n",
    "    color='#EF4444'\n",
    ")\n",
    "\n",
    "ax.bar(\n",
    "    r_borough_approved.index,\n",
    "    r_borough_approved,\n",
    "    label='approved',\n",
    "    color='#009F75'\n",
    ")\n",
    "\n",
    "\n",
    "ax.set(\n",
    "    ylabel='Total outdoor dinning requests (%)',\n",
    "    title='Outcome of outdoor dinning requests in NYC',\n",
    "    ylim=(0, 50),\n",
    "    \n",
    ")\n",
    "\n",
    "ax.legend(frameon=False)\n",
    "ax.margins(0.1)\n",
    "fig.patch.set_facecolor('white')\n",
    "\n",
    "plt.savefig(os.path.join(save_fp, 'approved_borough.png'), dpi=500)"
   ]
  },
  {
   "cell_type": "code",
   "execution_count": null,
   "metadata": {},
   "outputs": [],
   "source": [
    "# get df with requests denied and normalization to total requests in that borough\n",
    "data_denied = pd.concat([data[~outdoor_approved].loc[:, 'Borough'].value_counts(),\n",
    "                         r_borough_rejected],\n",
    "                        axis=1,\n",
    "                        )\n",
    "# rename columns\n",
    "data_denied.columns = ['requests_rejected', 'requests_rejected_norm']\n",
    "\n",
    "data_denied.head()"
   ]
  },
  {
   "cell_type": "markdown",
   "metadata": {},
   "source": [
    "Another way of visualizing the the distribution of restaurants accross borough is by plotting a waffle chart. While in other languages this process is pretty straighforward, in python it requires bending matplotlib to our will!"
   ]
  },
  {
   "cell_type": "code",
   "execution_count": null,
   "metadata": {},
   "outputs": [],
   "source": [
    "total_approved = data[outdoor_approved].loc[:, 'Borough'].shape[0]\n",
    "\n",
    "nyc_outdoor_dinning = (data[outdoor_approved].loc[:, 'Borough'].value_counts() / total_approved) * 100\n",
    "total_nyc_abs_values = data[outdoor_approved].loc[:, 'Borough'].value_counts().sum()"
   ]
  },
  {
   "cell_type": "code",
   "execution_count": null,
   "metadata": {},
   "outputs": [],
   "source": [
    "# Set the width and height of the chart, respectively\n",
    "width = 20\n",
    "height = 5\n",
    "total_num_tiles = width * height\n",
    "\n",
    "# Calculate the number of tiles per borough\n",
    "proportion_tiles = [\n",
    "    round(total_num_tiles * proportion) for proportion in (nyc_outdoor_dinning.to_numpy() / 100)\n",
    "]\n",
    "\n",
    "final_array = np.zeros((height, width))\n",
    "\n",
    "borough = 0\n",
    "borough_tile = 0\n",
    "\n",
    "# populate the empy matrix with an integer corresponding to the borough\n",
    "for row in range(0, width):\n",
    "    \n",
    "    for col in range(0, height):\n",
    "        \n",
    "        # assign a \"tile\"\n",
    "        final_array[col, row] = borough\n",
    "        borough_tile += 1\n",
    "        \n",
    "        # if there are no more tiles, move to the next borough\n",
    "        if borough_tile == proportion_tiles[borough]:\n",
    "            borough += 1\n",
    "            borough_tile = 0"
   ]
  },
  {
   "cell_type": "code",
   "execution_count": null,
   "metadata": {},
   "outputs": [],
   "source": [
    "with plt.xkcd():\n",
    "    \n",
    "    # instantiate a new figure object\n",
    "    fig, ax = plt.subplots(figsize=(15, 15))\n",
    "\n",
    "    colormap = plt.cm.Accent\n",
    "    cmap = plt.get_cmap('Accent')\n",
    "\n",
    "    # use matshow to display the waffle chart\n",
    "    ax.matshow(\n",
    "        final_array,\n",
    "        cmap=colormap,\n",
    "    )\n",
    "\n",
    "    ax.set_yticks(\n",
    "        ticks=np.arange(-.5, (height), 1),\n",
    "        minor=True,\n",
    "    );\n",
    "    ax.set_xticks(\n",
    "        ticks=np.arange(-.5, (width), 1),\n",
    "        minor=True,\n",
    "    );\n",
    "    \n",
    "    ax.grid(which='minor', color='white', linestyle='-', linewidth=1.5)\n",
    "    ax.set(xticks=[], yticks=[]);\n",
    "\n",
    "\n",
    "    # compute cumulative sum of individual categories to match color schemes between chart and legend\n",
    "    values_cumsum = np.cumsum(nyc_outdoor_dinning.to_numpy())\n",
    "    total_values = values_cumsum[-1] # Access the last element\n",
    "\n",
    "    # create legend\n",
    "    legend_handles = []\n",
    "    odd_colors_cmap = [0, 2, 4, 6, 8]\n",
    "    for i, category in enumerate(nyc_outdoor_dinning.index):\n",
    "        label_str = f'{category}: {(nyc_outdoor_dinning.to_numpy()[i]*total_nyc_abs_values)/100:0.0f}'\n",
    "        color_val = cmap(odd_colors_cmap[i])\n",
    "        legend_handles.append(mpatches.Patch(color=color_val,\n",
    "                                             label=label_str),\n",
    "                             )\n",
    "\n",
    "    # https://matplotlib.org/stable/tutorials/colors/colormaps.html\n",
    "\n",
    "    # add legend to chart\n",
    "    plt.legend(handles=legend_handles,\n",
    "               loc='lower center', \n",
    "               ncol=1,\n",
    "               bbox_to_anchor=(0., 0.4, 2.25, .1),\n",
    "               frameon=False,\n",
    "               fontsize=16\n",
    "              )\n",
    "    \n",
    "    ax.spines['bottom'].set_color('white')\n",
    "    ax.spines['left'].set_color('white')\n",
    "\n",
    "    # Add white background\n",
    "    fig.patch.set_facecolor('white')\n",
    "\n",
    "plt.savefig(os.path.join(save_fp, 'waffleplot.png'), dpi=500)"
   ]
  },
  {
   "cell_type": "markdown",
   "metadata": {},
   "source": [
    "### Q2. Where is located the highest amount of restaurants in close proximity to a landmark building or location?\n",
    "---\n",
    "\n",
    "Restaurants with approved outdoor dinning are mostly common in Manhattan. I wondered whether they are evenly spread accross the different neighborhood or clustered in specific areas. Let's find out!"
   ]
  },
  {
   "cell_type": "code",
   "execution_count": null,
   "metadata": {},
   "outputs": [],
   "source": [
    "# Subset the data to get manhattan data\n",
    "manh_data = data[data['Borough'].isin(['Manhattan'])].reset_index(drop=True)"
   ]
  },
  {
   "cell_type": "code",
   "execution_count": null,
   "metadata": {},
   "outputs": [],
   "source": [
    "# Further subset the manhattan data to get the approved requests. \n",
    "outdoor_approved = manh_data.loc[:, 'Approved for Sidewalk Seating'].isin(['yes'])\\\n",
    "                   | manh_data.loc[:, 'Approved for Roadway Seating'].isin(['yes'])\n",
    "\n",
    "manh_data = manh_data[outdoor_approved]\n",
    "\n",
    "manh_data.head(2)"
   ]
  },
  {
   "cell_type": "markdown",
   "metadata": {},
   "source": [
    "One powerful way to visualize the data (approved restaurants) in relation to the space (eg Manhattan city landscape) is by building [choropleth](https://en.wikipedia.org/wiki/Choropleth_map) map using [folium](https://python-visualization.github.io/folium/). \n",
    "\n",
    "The New York City organizes the neighborhoods according to Neighborhood Tabulation Areas (NTA). Each of the neighborhood can be composed of more that one commonly known areas. More information about NTA can be found [here](https://www1.nyc.gov/site/planning/data-maps/open-data/dwn-nynta.page)."
   ]
  },
  {
   "cell_type": "code",
   "execution_count": null,
   "metadata": {},
   "outputs": [],
   "source": [
    "# Group data by number of restaurants per NTA\n",
    "restaurants_per_NTA = manh_data.groupby(['NTA'])\\\n",
    "                               .count()['objectid']\\\n",
    "                               .reset_index()\\\n",
    "                               .rename({'NTA': 'NTAName', 'objectid': 'n_restaurants'}, axis=1)\n",
    "\n",
    "# show the first 5 rows\n",
    "restaurants_per_NTA.head()"
   ]
  },
  {
   "cell_type": "code",
   "execution_count": null,
   "metadata": {},
   "outputs": [],
   "source": [
    "# load and clean the geojson with the areas of each NTA\n",
    "nyc_geo = r'dataset/nyc_nta.json'\n",
    "with open(nyc_geo) as file:\n",
    "    nyc_nta = json.load(file)\n",
    "\n",
    "# Extract manhattan NTAs\n",
    "nyc_nta['features'] = [sub_feature for sub_feature in nyc_nta.get('features')\n",
    "                       if sub_feature.get('properties').get('BoroName') == 'Manhattan']"
   ]
  },
  {
   "cell_type": "code",
   "execution_count": null,
   "metadata": {},
   "outputs": [],
   "source": [
    "# Instantiate NYC map\n",
    "m = folium.Map(location=[40.7529078, -73.9941886],\n",
    "               zoom_start=11,\n",
    "               tiles='cartodbpositron'\n",
    "              )\n",
    "\n",
    "# Add the number of approved restaurants per NTA\n",
    "folium.Choropleth(\n",
    "    geo_data=nyc_nta,\n",
    "    name=\"choropleth\",\n",
    "    data=restaurants_per_NTA,\n",
    "    columns=[\"NTAName\", \"n_restaurants\"],\n",
    "    key_on=\"feature.properties.NTAName\",\n",
    "    fill_color=\"YlGnBu\",\n",
    "    fill_opacity=0.7,\n",
    "    line_opacity=2,\n",
    "    legend_name=\"Number of Restaurants With Approved Outdoor Dinning\",\n",
    "    highlight=True,\n",
    ").add_to(m)\n",
    "\n",
    "# took some code from here: https://vverde.github.io/blob/interactivechoropleth.html\n",
    "\n",
    "style_function = lambda x: {'fillColor': '#ffffff', \n",
    "                            'color':'#000000', \n",
    "                            'fillOpacity': 0.1, \n",
    "                            'weight': 0.1}\n",
    "highlight_function = lambda x: {'fillColor': '#000000', \n",
    "                                'color':'#000000', \n",
    "                                'fillOpacity': 0.50, \n",
    "                                'weight': 0.1}\n",
    "\n",
    "# Allow pop-up to appear when hovering with the mouse\n",
    "NIL = folium.features.GeoJson(\n",
    "    nyc_nta,\n",
    "    style_function=style_function, \n",
    "    control=False,\n",
    "    highlight_function=highlight_function, \n",
    "    tooltip=folium.features.GeoJsonTooltip(\n",
    "        fields=[\"NTAName\"],\n",
    "        aliases=[''],\n",
    "        style=(\"background-color: white; color: #333333; font-family: arial; font-size: 12px; padding: 10px;\") \n",
    "    )\n",
    ")\n",
    "m.add_child(NIL)\n",
    "m.keep_in_front(NIL)\n",
    "folium.LayerControl().add_to(m)\n",
    "\n",
    "m"
   ]
  },
  {
   "cell_type": "markdown",
   "metadata": {},
   "source": [
    "We can observe that the majority of the restaurants with outdoor dinning are located South of Central Park. Which are the top 3 neighborhoods with the most outdoor dinning avaiable in Manhattan?"
   ]
  },
  {
   "cell_type": "code",
   "execution_count": null,
   "metadata": {},
   "outputs": [],
   "source": [
    "# count the number of individual restaurants in each NTA\n",
    "nta_rest_counts = manh_data['NTA'].value_counts()\n",
    "\n",
    "\n",
    "print('The top 3 NTA in manhattan are:')\n",
    "\n",
    "for nta in nta_rest_counts.index[:5]:\n",
    "    print(f'{nta} with {nta_rest_counts.loc[nta,]} restaurants')\n",
    "\n",
    "proportion_top5 = nta_rest_counts[:5].sum() / nta_rest_counts.sum()\n",
    "print(f'The top 5 NTA contain {proportion_top5* 100:0.02f}% of all {nta_rest_counts.index.size} areas!')"
   ]
  },
  {
   "cell_type": "markdown",
   "metadata": {},
   "source": [
    "So we can observed that the location of the restaurants is highly clustered in some particular areas. Let's subset our search to the restaurants that are in proximity to [NYC landmark buildings or districts](https://nyclpc.maps.arcgis.com/apps/webappviewer/index.html?id=93a88691cace4067828b1eede432022b). Which restaurants are located in a landmark district or building?\n",
    "\n",
    "\n",
    "\n",
    "First, let's have a look at the proportion of restaurants that are location in a landmark location in Manhattan."
   ]
  },
  {
   "cell_type": "code",
   "execution_count": null,
   "metadata": {},
   "outputs": [],
   "source": [
    "# Group manhattan restaurants by the landmark feature\n",
    "landmark_restaurants = manh_data.groupby(['Borough', 'Landmark District or Building'])['Borough']\\\n",
    "                                .count()\\\n",
    "\n",
    "display(landmark_restaurants)"
   ]
  },
  {
   "cell_type": "code",
   "execution_count": null,
   "metadata": {},
   "outputs": [],
   "source": [
    "# normalize to the total number of restaurants\n",
    "lmark_result = (landmark_restaurants / landmark_restaurants.sum())\n",
    "\n",
    "manhattan_lmark_y = lmark_result[('Manhattan', 'yes')]\n",
    "\n",
    "print(f'In Manhattan, there are {manhattan_lmark_y*100:0.02f}% of the restaurants are located in a landmark district or building.')"
   ]
  },
  {
   "cell_type": "markdown",
   "metadata": {},
   "source": [
    "What is the NTA with the highest concentration?"
   ]
  },
  {
   "cell_type": "code",
   "execution_count": null,
   "metadata": {},
   "outputs": [],
   "source": [
    "# Group data\n",
    "landmark_NTA = manh_data.groupby(['NTA', 'Landmark District or Building'])['objectid']\\\n",
    "                        .count()\\\n",
    "                        .sort_values(ascending=False)\\\n",
    "                        .reset_index()\n",
    "\n",
    "\n",
    "landmark_NTA = landmark_NTA[landmark_NTA['Landmark District or Building'].isin(['yes'])]\n",
    "landmark_NTA.rename(columns={'objectid': 'n_restaurants'}, inplace=True)\n",
    "\n",
    "landmark_NTA.head(3)"
   ]
  },
  {
   "cell_type": "code",
   "execution_count": null,
   "metadata": {},
   "outputs": [],
   "source": [
    "# Plot the results\n",
    "with plt.xkcd():\n",
    "    fig, ax = plt.subplots()\n",
    "\n",
    "#     ax1 = ax.twiny()\n",
    "    ax.barh(\n",
    "        y=landmark_NTA['NTA'].head()[::-1],\n",
    "        width=landmark_NTA['n_restaurants'].head()[::-1],\n",
    "\n",
    "    )\n",
    "\n",
    "    ax.set_xlabel('Number of Restaurants')\n",
    "    ax.set_title('restaurants located in landmark districts or buildings', x=0, color='C0', y=1.05)\n",
    "    \n",
    "plt.savefig(os.path.join(save_fp, 'manhattan_landmark_xkcd.png'), dpi=200, bbox_inches='tight')"
   ]
  },
  {
   "cell_type": "markdown",
   "metadata": {},
   "source": [
    "It seems that West Village contains the higher number of restaurants with outdoor dinning around important landmark locations and it far exceeds the second in place composed by the historical neighborhoods of SoHo, Tribeca, Civic Center and Little Italy."
   ]
  },
  {
   "cell_type": "markdown",
   "metadata": {},
   "source": [
    "## Q3. What is the proportion of restaurants providing outdoor dinning that offer alcoholic beverages in the neighborhood with the highest density of landmark locations?\n",
    "---\n",
    "\n",
    "The last aspect that I explored was the capacity of the restaurant that offers outdoor dinning AND is located in a landmark building or area to serve alchool. "
   ]
  },
  {
   "cell_type": "code",
   "execution_count": null,
   "metadata": {},
   "outputs": [],
   "source": [
    "# Subset dataset by landmark district of building in manhattan\n",
    "cond = manh_data['Landmark District or Building'].isin(['yes'])\n",
    "lmark_manh_data = manh_data[cond]\n",
    "\n",
    "lmark_manh_data.head(2)"
   ]
  },
  {
   "cell_type": "code",
   "execution_count": null,
   "metadata": {},
   "outputs": [],
   "source": [
    "# get the the restaurants that qualify for selling alchool \n",
    "qualify_alcohol = pd.concat(\n",
    "    [lmark_manh_data['Qualify Alcohol'].value_counts(normalize=False),\n",
    "     (lmark_manh_data['Qualify Alcohol'].value_counts(normalize=True) * 100)],\n",
    "    axis=1,\n",
    ").apply(lambda x: round(x, 2))\n",
    "\n",
    "qualify_alcohol.columns = ['qualify_alcohol_raw', 'qualify_alcohol_%']\n",
    "\n",
    "display(qualify_alcohol)"
   ]
  },
  {
   "cell_type": "markdown",
   "metadata": {},
   "source": [
    "In manhattan over 80% of the restaurants offers alchool. What about specifically in west village?"
   ]
  },
  {
   "cell_type": "code",
   "execution_count": null,
   "metadata": {},
   "outputs": [],
   "source": [
    "# get west village condition\n",
    "NTA_lmark_top = landmark_NTA.iloc[0, 0]\n",
    "\n",
    "# subset data to include only restaurants located in west village\n",
    "lmark_manh_data_top_NTA = lmark_manh_data[lmark_manh_data['NTA'].isin([NTA_lmark_top])]\n",
    "\n",
    "lmark_manh_data_top_NTA.head()"
   ]
  },
  {
   "cell_type": "code",
   "execution_count": null,
   "metadata": {},
   "outputs": [],
   "source": [
    "proportion_west_village = lmark_manh_data_top_NTA.groupby(['NTA'])['Qualify Alcohol']\\\n",
    "                                                 .value_counts(normalize=True)\\\n",
    "                                                 .apply(lambda x: round(x, 2))\n",
    "\n",
    "display(proportion_west_village)"
   ]
  },
  {
   "cell_type": "markdown",
   "metadata": {},
   "source": [
    "In West Village, the percentage of restaurants selling alchool is higher by around 5% compared to the whole manhattan restaurants in landmark buildings/locations. Where are they located?"
   ]
  },
  {
   "cell_type": "code",
   "execution_count": null,
   "metadata": {},
   "outputs": [],
   "source": [
    "# subset the data to west village to create a new choropleth map\n",
    "lmark_west_village = lmark_manh_data_top_NTA[lmark_manh_data_top_NTA.NTA.isin(['West Village'])]\n",
    "\n",
    "lmark_west_village.groupby('Street')['objectid'].count().sort_values(ascending=False)[:5]\n",
    "\n",
    "lmark_west_village.head(3)"
   ]
  },
  {
   "cell_type": "code",
   "execution_count": null,
   "metadata": {},
   "outputs": [],
   "source": [
    "m = folium.Map(location=[40.73578, -74.00357],\n",
    "               zoom_start=14,\n",
    "               tiles='cartodbpositron'\n",
    "              )\n",
    "\n",
    "for restaurant in range(lmark_west_village.index.size):\n",
    "    \n",
    "    if lmark_west_village.iloc[restaurant, 10] == 'yes':\n",
    "        color='darkblue'\n",
    "        group = 'Offer Alchool: Yes'\n",
    "        fg = folium.FeatureGroup(name=f'<span style=\"color: {color};\">{group}</span>')\n",
    "        m.add_child(fg)\n",
    "        \n",
    "        marker = folium.Marker(\n",
    "            location=(lmark_west_village.Latitude.iloc[restaurant],\n",
    "                      lmark_west_village.Longitude.iloc[restaurant]), \n",
    "            popup=lmark_west_village['Restaurant Name'].iloc[restaurant],\n",
    "            icon=folium.map.Icon(color),\n",
    "        ).add_to(m)\n",
    "        \n",
    "        \n",
    "    else:\n",
    "        color='darkred'\n",
    "        group = 'Offer Alchool: No'\n",
    "        fg = folium.FeatureGroup(name=f'<span style=\"color: {color};\">{group}</span>')\n",
    "        m.add_child(fg)\n",
    "        \n",
    "        marker = folium.Marker(\n",
    "            location=(lmark_west_village.Latitude.iloc[restaurant],\n",
    "                      lmark_west_village.Longitude.iloc[restaurant]), \n",
    "            popup=lmark_west_village['Restaurant Name'].iloc[restaurant],\n",
    "            icon=folium.Icon(color, icon=\"info-sign\")\n",
    "        ).add_to(m)\n",
    "\n",
    "folium.LayerControl(collapsed=False).add_to(m)\n",
    "\n",
    "style_function = lambda x: {'fillColor': '#ffffff', \n",
    "                            'color':'#000000', \n",
    "                            'fillOpacity': 0.1, \n",
    "                            'weight': 0.1}\n",
    "highlight_function = lambda x: {'fillColor': '#000000', \n",
    "                                'color':'#000000', \n",
    "                                'fillOpacity': 0.50, \n",
    "                                'weight': 0.1}\n",
    "\n",
    "# Allow pop-up to appear when hovering with the mouse\n",
    "NIL = folium.features.GeoJson(\n",
    "    nyc_nta,\n",
    "    style_function=style_function, \n",
    "    control=False,\n",
    "    highlight_function=highlight_function, \n",
    "    tooltip=folium.features.GeoJsonTooltip(\n",
    "        fields=[\"NTAName\"],\n",
    "        aliases=[''],\n",
    "        style=(\"background-color: white; color: #333333; font-family: arial; font-size: 12px; padding: 10px;\") \n",
    "    )\n",
    ")\n",
    "m.add_child(NIL)\n",
    "m.keep_in_front(NIL)\n",
    "folium.LayerControl().add_to(m)\n",
    "\n",
    "m\n",
    "\n",
    "m    \n"
   ]
  },
  {
   "cell_type": "markdown",
   "metadata": {},
   "source": [
    "The distribuition of the restaurants in a land mark building or area are quite spread across West Village. To comlete this part, we can have a look at the street with highest number of establishments:"
   ]
  },
  {
   "cell_type": "code",
   "execution_count": null,
   "metadata": {},
   "outputs": [],
   "source": [
    "lmark_west_village_top3 = lmark_west_village.groupby(['Street', 'Qualify Alcohol'])['objectid']\\\n",
    "                                            .count()\\\n",
    "                                            .sort_values(ascending=False)\n",
    "print('The Streets in Westvillage that contain the higher amount of restaurants offering outdoor dinning,',\n",
    "      'allowed to sell alcohol and located in landmark locations are:')\n",
    "print(lmark_west_village_top3[:3])"
   ]
  },
  {
   "cell_type": "markdown",
   "metadata": {},
   "source": [
    "<a id=\"outro\"><a/> \n",
    "\n",
    "## Outro\n",
    "---\n",
    "    \n",
    "Thank you for reading my work and I hope it was informative! If you find a mistake or if you have suggestions, please let me know!\n",
    "    \n",
    "Cheers,  \n",
    "Jose"
   ]
  },
  {
   "cell_type": "markdown",
   "metadata": {},
   "source": [
    "---\n",
    "_**Disclaimer:**_\n",
    "_The data used is part of the open datasets from new york city and this post was part of the learning objectives of the degree in Data Science provided by Udacity. The author is not affiliated with any of the entities mentioned nor received any kind of compensation. The author assumes no responsibility or liability for any errors or omissions in the content of this post. The information contained in this site is provided on an \"as is\" basis with no guarantees of completeness, accuracy, usefulness or timeliness._\n",
    "\n",
    "\n",
    "2021 - Jose Cruz"
   ]
  }
 ],
 "metadata": {
  "kernelspec": {
   "display_name": "Python 3",
   "language": "python",
   "name": "python3"
  },
  "language_info": {
   "codemirror_mode": {
    "name": "ipython",
    "version": 3
   },
   "file_extension": ".py",
   "mimetype": "text/x-python",
   "name": "python",
   "nbconvert_exporter": "python",
   "pygments_lexer": "ipython3",
   "version": "3.9.2"
  }
 },
 "nbformat": 4,
 "nbformat_minor": 4
}
